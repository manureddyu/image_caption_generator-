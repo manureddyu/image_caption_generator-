{
 "cells": [
  {
   "cell_type": "code",
   "execution_count": 1,
   "id": "0a72cb19-eaef-4fb3-ae20-773858e5dce1",
   "metadata": {},
   "outputs": [
    {
     "name": "stdout",
     "output_type": "stream",
     "text": [
      "Requirement already satisfied: transformers in c:\\users\\manuj\\anaconda3\\lib\\site-packages (4.50.3)\n",
      "Requirement already satisfied: filelock in c:\\users\\manuj\\anaconda3\\lib\\site-packages (from transformers) (3.13.1)\n",
      "Requirement already satisfied: huggingface-hub<1.0,>=0.26.0 in c:\\users\\manuj\\anaconda3\\lib\\site-packages (from transformers) (0.29.3)\n",
      "Requirement already satisfied: numpy>=1.17 in c:\\users\\manuj\\anaconda3\\lib\\site-packages (from transformers) (1.26.4)\n",
      "Requirement already satisfied: packaging>=20.0 in c:\\users\\manuj\\anaconda3\\lib\\site-packages (from transformers) (23.1)\n",
      "Requirement already satisfied: pyyaml>=5.1 in c:\\users\\manuj\\anaconda3\\lib\\site-packages (from transformers) (6.0.1)\n",
      "Requirement already satisfied: regex!=2019.12.17 in c:\\users\\manuj\\anaconda3\\lib\\site-packages (from transformers) (2023.10.3)\n",
      "Requirement already satisfied: requests in c:\\users\\manuj\\anaconda3\\lib\\site-packages (from transformers) (2.31.0)\n",
      "Requirement already satisfied: tokenizers<0.22,>=0.21 in c:\\users\\manuj\\anaconda3\\lib\\site-packages (from transformers) (0.21.1)\n",
      "Requirement already satisfied: safetensors>=0.4.3 in c:\\users\\manuj\\anaconda3\\lib\\site-packages (from transformers) (0.5.3)\n",
      "Requirement already satisfied: tqdm>=4.27 in c:\\users\\manuj\\anaconda3\\lib\\site-packages (from transformers) (4.65.0)\n",
      "Requirement already satisfied: fsspec>=2023.5.0 in c:\\users\\manuj\\anaconda3\\lib\\site-packages (from huggingface-hub<1.0,>=0.26.0->transformers) (2023.10.0)\n",
      "Requirement already satisfied: typing-extensions>=3.7.4.3 in c:\\users\\manuj\\anaconda3\\lib\\site-packages (from huggingface-hub<1.0,>=0.26.0->transformers) (4.13.0)\n",
      "Requirement already satisfied: colorama in c:\\users\\manuj\\anaconda3\\lib\\site-packages (from tqdm>=4.27->transformers) (0.4.6)\n",
      "Requirement already satisfied: charset-normalizer<4,>=2 in c:\\users\\manuj\\anaconda3\\lib\\site-packages (from requests->transformers) (2.0.4)\n",
      "Requirement already satisfied: idna<4,>=2.5 in c:\\users\\manuj\\anaconda3\\lib\\site-packages (from requests->transformers) (2.10)\n",
      "Requirement already satisfied: urllib3<3,>=1.21.1 in c:\\users\\manuj\\anaconda3\\lib\\site-packages (from requests->transformers) (2.0.7)\n",
      "Requirement already satisfied: certifi>=2017.4.17 in c:\\users\\manuj\\anaconda3\\lib\\site-packages (from requests->transformers) (2025.1.31)\n"
     ]
    }
   ],
   "source": [
    "!pip install transformers\n"
   ]
  },
  {
   "cell_type": "code",
   "execution_count": 2,
   "id": "5796bf3c-66ae-47ca-b00e-df4c7a74a085",
   "metadata": {},
   "outputs": [
    {
     "name": "stdout",
     "output_type": "stream",
     "text": [
      "Requirement already satisfied: torch in c:\\users\\manuj\\anaconda3\\lib\\site-packages (2.6.0)\n",
      "Requirement already satisfied: torchvision in c:\\users\\manuj\\anaconda3\\lib\\site-packages (0.21.0)\n",
      "Requirement already satisfied: torchaudio in c:\\users\\manuj\\anaconda3\\lib\\site-packages (2.6.0)\n",
      "Requirement already satisfied: filelock in c:\\users\\manuj\\anaconda3\\lib\\site-packages (from torch) (3.13.1)\n",
      "Requirement already satisfied: typing-extensions>=4.10.0 in c:\\users\\manuj\\anaconda3\\lib\\site-packages (from torch) (4.13.0)\n",
      "Requirement already satisfied: networkx in c:\\users\\manuj\\anaconda3\\lib\\site-packages (from torch) (3.1)\n",
      "Requirement already satisfied: jinja2 in c:\\users\\manuj\\anaconda3\\lib\\site-packages (from torch) (3.1.3)\n",
      "Requirement already satisfied: fsspec in c:\\users\\manuj\\anaconda3\\lib\\site-packages (from torch) (2023.10.0)\n",
      "Requirement already satisfied: sympy==1.13.1 in c:\\users\\manuj\\anaconda3\\lib\\site-packages (from torch) (1.13.1)\n",
      "Requirement already satisfied: mpmath<1.4,>=1.1.0 in c:\\users\\manuj\\anaconda3\\lib\\site-packages (from sympy==1.13.1->torch) (1.3.0)\n",
      "Requirement already satisfied: numpy in c:\\users\\manuj\\anaconda3\\lib\\site-packages (from torchvision) (1.26.4)\n",
      "Requirement already satisfied: pillow!=8.3.*,>=5.3.0 in c:\\users\\manuj\\anaconda3\\lib\\site-packages (from torchvision) (10.2.0)\n",
      "Requirement already satisfied: MarkupSafe>=2.0 in c:\\users\\manuj\\anaconda3\\lib\\site-packages (from jinja2->torch) (2.1.3)\n"
     ]
    }
   ],
   "source": [
    "!pip install torch torchvision torchaudio\n"
   ]
  },
  {
   "cell_type": "code",
   "execution_count": 3,
   "id": "9b81ccf3-ec33-4ea9-854b-6435e658e00f",
   "metadata": {},
   "outputs": [
    {
     "name": "stdout",
     "output_type": "stream",
     "text": [
      "Requirement already satisfied: ipywidgets in c:\\users\\manuj\\anaconda3\\lib\\site-packages (8.1.5)\n",
      "Requirement already satisfied: comm>=0.1.3 in c:\\users\\manuj\\anaconda3\\lib\\site-packages (from ipywidgets) (0.2.2)\n",
      "Requirement already satisfied: ipython>=6.1.0 in c:\\users\\manuj\\anaconda3\\lib\\site-packages (from ipywidgets) (8.20.0)\n",
      "Requirement already satisfied: traitlets>=4.3.1 in c:\\users\\manuj\\anaconda3\\lib\\site-packages (from ipywidgets) (5.7.1)\n",
      "Requirement already satisfied: widgetsnbextension~=4.0.12 in c:\\users\\manuj\\anaconda3\\lib\\site-packages (from ipywidgets) (4.0.13)\n",
      "Requirement already satisfied: jupyterlab-widgets~=3.0.12 in c:\\users\\manuj\\anaconda3\\lib\\site-packages (from ipywidgets) (3.0.13)\n",
      "Requirement already satisfied: decorator in c:\\users\\manuj\\anaconda3\\lib\\site-packages (from ipython>=6.1.0->ipywidgets) (5.1.1)\n",
      "Requirement already satisfied: jedi>=0.16 in c:\\users\\manuj\\anaconda3\\lib\\site-packages (from ipython>=6.1.0->ipywidgets) (0.18.1)\n",
      "Requirement already satisfied: matplotlib-inline in c:\\users\\manuj\\anaconda3\\lib\\site-packages (from ipython>=6.1.0->ipywidgets) (0.1.6)\n",
      "Requirement already satisfied: prompt-toolkit<3.1.0,>=3.0.41 in c:\\users\\manuj\\anaconda3\\lib\\site-packages (from ipython>=6.1.0->ipywidgets) (3.0.43)\n",
      "Requirement already satisfied: pygments>=2.4.0 in c:\\users\\manuj\\anaconda3\\lib\\site-packages (from ipython>=6.1.0->ipywidgets) (2.15.1)\n",
      "Requirement already satisfied: stack-data in c:\\users\\manuj\\anaconda3\\lib\\site-packages (from ipython>=6.1.0->ipywidgets) (0.2.0)\n",
      "Requirement already satisfied: colorama in c:\\users\\manuj\\anaconda3\\lib\\site-packages (from ipython>=6.1.0->ipywidgets) (0.4.6)\n",
      "Requirement already satisfied: parso<0.9.0,>=0.8.0 in c:\\users\\manuj\\anaconda3\\lib\\site-packages (from jedi>=0.16->ipython>=6.1.0->ipywidgets) (0.8.3)\n",
      "Requirement already satisfied: wcwidth in c:\\users\\manuj\\anaconda3\\lib\\site-packages (from prompt-toolkit<3.1.0,>=3.0.41->ipython>=6.1.0->ipywidgets) (0.2.5)\n",
      "Requirement already satisfied: executing in c:\\users\\manuj\\anaconda3\\lib\\site-packages (from stack-data->ipython>=6.1.0->ipywidgets) (0.8.3)\n",
      "Requirement already satisfied: asttokens in c:\\users\\manuj\\anaconda3\\lib\\site-packages (from stack-data->ipython>=6.1.0->ipywidgets) (2.0.5)\n",
      "Requirement already satisfied: pure-eval in c:\\users\\manuj\\anaconda3\\lib\\site-packages (from stack-data->ipython>=6.1.0->ipywidgets) (0.2.2)\n",
      "Requirement already satisfied: six in c:\\users\\manuj\\anaconda3\\lib\\site-packages (from asttokens->stack-data->ipython>=6.1.0->ipywidgets) (1.16.0)\n"
     ]
    }
   ],
   "source": [
    "!pip install --upgrade ipywidgets\n"
   ]
  },
  {
   "cell_type": "code",
   "execution_count": 4,
   "id": "f4da2434-98fd-4be4-b4b2-de854af47e12",
   "metadata": {},
   "outputs": [
    {
     "name": "stdout",
     "output_type": "stream",
     "text": [
      "Requirement already satisfied: colorama in c:\\users\\manuj\\anaconda3\\lib\\site-packages (0.4.6)\n"
     ]
    }
   ],
   "source": [
    "!pip install colorama\n"
   ]
  },
  {
   "cell_type": "code",
   "execution_count": 5,
   "id": "7bb78f1a-3868-4c60-9622-ca524963bbd3",
   "metadata": {},
   "outputs": [
    {
     "name": "stdout",
     "output_type": "stream",
     "text": [
      "Requirement already satisfied: googletrans==4.0.0-rc1 in c:\\users\\manuj\\anaconda3\\lib\\site-packages (4.0.0rc1)\n",
      "Requirement already satisfied: httpx==0.13.3 in c:\\users\\manuj\\anaconda3\\lib\\site-packages (from googletrans==4.0.0-rc1) (0.13.3)\n",
      "Requirement already satisfied: certifi in c:\\users\\manuj\\anaconda3\\lib\\site-packages (from httpx==0.13.3->googletrans==4.0.0-rc1) (2025.1.31)\n",
      "Requirement already satisfied: hstspreload in c:\\users\\manuj\\anaconda3\\lib\\site-packages (from httpx==0.13.3->googletrans==4.0.0-rc1) (2025.1.1)\n",
      "Requirement already satisfied: sniffio in c:\\users\\manuj\\anaconda3\\lib\\site-packages (from httpx==0.13.3->googletrans==4.0.0-rc1) (1.3.0)\n",
      "Requirement already satisfied: chardet==3.* in c:\\users\\manuj\\anaconda3\\lib\\site-packages (from httpx==0.13.3->googletrans==4.0.0-rc1) (3.0.4)\n",
      "Requirement already satisfied: idna==2.* in c:\\users\\manuj\\anaconda3\\lib\\site-packages (from httpx==0.13.3->googletrans==4.0.0-rc1) (2.10)\n",
      "Requirement already satisfied: rfc3986<2,>=1.3 in c:\\users\\manuj\\anaconda3\\lib\\site-packages (from httpx==0.13.3->googletrans==4.0.0-rc1) (1.5.0)\n",
      "Requirement already satisfied: httpcore==0.9.* in c:\\users\\manuj\\anaconda3\\lib\\site-packages (from httpx==0.13.3->googletrans==4.0.0-rc1) (0.9.1)\n",
      "Requirement already satisfied: h11<0.10,>=0.8 in c:\\users\\manuj\\anaconda3\\lib\\site-packages (from httpcore==0.9.*->httpx==0.13.3->googletrans==4.0.0-rc1) (0.9.0)\n",
      "Requirement already satisfied: h2==3.* in c:\\users\\manuj\\anaconda3\\lib\\site-packages (from httpcore==0.9.*->httpx==0.13.3->googletrans==4.0.0-rc1) (3.2.0)\n",
      "Requirement already satisfied: hyperframe<6,>=5.2.0 in c:\\users\\manuj\\anaconda3\\lib\\site-packages (from h2==3.*->httpcore==0.9.*->httpx==0.13.3->googletrans==4.0.0-rc1) (5.2.0)\n",
      "Requirement already satisfied: hpack<4,>=3.0 in c:\\users\\manuj\\anaconda3\\lib\\site-packages (from h2==3.*->httpcore==0.9.*->httpx==0.13.3->googletrans==4.0.0-rc1) (3.0.0)\n"
     ]
    }
   ],
   "source": [
    "!pip install googletrans==4.0.0-rc1\n"
   ]
  },
  {
   "cell_type": "code",
   "execution_count": 6,
   "id": "a9541b81-e7f4-465e-8543-ab5b6ae5a33b",
   "metadata": {},
   "outputs": [
    {
     "name": "stderr",
     "output_type": "stream",
     "text": [
      "Using a slow image processor as `use_fast` is unset and a slow processor was saved with this model. `use_fast=True` will be the default behavior in v4.52, even if the model was saved with a slow processor. This will result in minor differences in outputs. You'll still be able to use a slow processor with `use_fast=False`.\n"
     ]
    },
    {
     "name": "stdout",
     "output_type": "stream",
     "text": [
      "🔄 Loading BLIP model...\n",
      "✅ Model loaded successfully!\n",
      "\n",
      "📌 Choose your language:\n",
      "1. English\n",
      "2. Tamil\n",
      "3. Kannada\n",
      "4. Telugu\n",
      "5. Malayalam\n",
      "6. Hindi\n"
     ]
    },
    {
     "name": "stdin",
     "output_type": "stream",
     "text": [
      "\n",
      "Enter your choice (e.g., 1,3 for multiple languages):  4\n"
     ]
    },
    {
     "name": "stdout",
     "output_type": "stream",
     "text": [
      "\n",
      "📌 Choose what to process:\n",
      "1. Images only\n",
      "2. Videos only\n",
      "3. Both Images and Videos\n"
     ]
    },
    {
     "name": "stdin",
     "output_type": "stream",
     "text": [
      "Enter your choice (1/2/3):  1\n"
     ]
    },
    {
     "name": "stdout",
     "output_type": "stream",
     "text": [
      "\n",
      "✅ Found images folder: E:\\images\n",
      "🖼 eight.jpg:\n",
      "🌍 Telugu: పర్వతాలలో మంచుతో కూడిన రహదారి\n",
      "\n",
      "🖼 five.jpg:\n",
      "🌍 Telugu: వర్షంలో గోడపై కూర్చున్న పక్షి\n",
      "\n",
      "🖼 four.jpg:\n",
      "🌍 Telugu: ఒక జంట సముద్రం వైపు చూస్తున్న బెంచ్ మీద కూర్చున్నారు\n",
      "\n",
      "🖼 nine.jpg:\n",
      "🌍 Telugu: ఒక వ్యక్తి పర్వతాలలో ఒక మార్గం పైకి నడుస్తున్నాడు\n",
      "\n",
      "🖼 one.jpg:\n",
      "🌍 Telugu: చెట్టు స్టంప్ మీద ఒక పక్షి\n",
      "\n",
      "🖼 seven.jpg:\n",
      "🌍 Telugu: సముద్రం మీద ప్రకాశవంతమైన నారింజ సూర్యాస్తమయం\n",
      "\n",
      "🖼 six.jpg:\n",
      "🌍 Telugu: ఒక మహిళ గదిలో కుర్చీలో కూర్చుని\n",
      "\n",
      "🖼 ten.jpg:\n",
      "🌍 Telugu: దానిలో ఒక పువ్వుతో ఒక కప్పు\n",
      "\n",
      "🖼 three.jpg:\n",
      "🌍 Telugu: రెండు హంసలు నీటిలో ఈత కొడుతున్నాయి\n",
      "\n",
      "\n",
      "✅ Captions saved in **captions_combined.txt**\n"
     ]
    }
   ],
   "source": [
    "import os\n",
    "import cv2\n",
    "from transformers import BlipProcessor, BlipForConditionalGeneration\n",
    "from PIL import Image\n",
    "from googletrans import Translator\n",
    "\n",
    "# Load BLIP Model\n",
    "print(\"🔄 Loading BLIP model...\")\n",
    "processor = BlipProcessor.from_pretrained(\"Salesforce/blip-image-captioning-base\")\n",
    "model = BlipForConditionalGeneration.from_pretrained(\"Salesforce/blip-image-captioning-base\")\n",
    "translator = Translator()\n",
    "print(\"✅ Model loaded successfully!\")\n",
    "\n",
    "# Define folders\n",
    "image_folder = \"E:\\\\images\"\n",
    "video_folder = \"E:\\\\videos\\\\frames\"\n",
    "output_file = \"captions_combined.txt\"\n",
    "\n",
    "# Language Mapping\n",
    "languages = {\n",
    "    \"1\": (\"English\", \"en\"),\n",
    "    \"2\": (\"Tamil\", \"ta\"),\n",
    "    \"3\": (\"Kannada\", \"kn\"),\n",
    "    \"4\": (\"Telugu\", \"te\"),\n",
    "    \"5\": (\"Malayalam\", \"ml\"),\n",
    "    \"6\": (\"Hindi\", \"hi\")\n",
    "}\n",
    "\n",
    "# Prompt user for language selection\n",
    "print(\"\\n📌 Choose your language:\")\n",
    "for key, lang in languages.items():\n",
    "    print(f\"{key}. {lang[0]}\")\n",
    "\n",
    "lang_choice = input(\"\\nEnter your choice (e.g., 1,3 for multiple languages): \").split(\",\")\n",
    "selected_languages = [languages[l.strip()] for l in lang_choice if l.strip() in languages]\n",
    "\n",
    "if not selected_languages:\n",
    "    print(\"❌ Invalid language selection! Defaulting to English.\")\n",
    "    selected_languages = [(\"English\", \"en\")]\n",
    "\n",
    "# Prompt user for processing choice\n",
    "print(\"\\n📌 Choose what to process:\")\n",
    "print(\"1. Images only\")\n",
    "print(\"2. Videos only\")\n",
    "print(\"3. Both Images and Videos\")\n",
    "\n",
    "process_choice = input(\"Enter your choice (1/2/3): \").strip()\n",
    "if process_choice not in [\"1\", \"2\", \"3\"]:\n",
    "    print(\"❌ Invalid choice! Defaulting to 'Both Images and Videos'.\")\n",
    "    process_choice = \"3\"\n",
    "\n",
    "captions_list = []\n",
    "\n",
    "def translate_caption(text, selected_languages):\n",
    "    \"\"\" Translates the caption into selected languages. \"\"\"\n",
    "    translations = {}\n",
    "    for lang_name, lang_code in selected_languages:\n",
    "        try:\n",
    "            if lang_code == \"en\":\n",
    "                translations[lang_name] = text\n",
    "            else:\n",
    "                translated_text = translator.translate(text, dest=lang_code).text\n",
    "                translations[lang_name] = translated_text\n",
    "        except Exception as e:\n",
    "            print(f\"⚠ Translation failed for {lang_name}: {e}\")\n",
    "            translations[lang_name] = text  # Default to English if translation fails\n",
    "    return translations\n",
    "\n",
    "# ** Process Images ** \n",
    "if process_choice in [\"1\", \"3\"]:\n",
    "    if not os.path.exists(image_folder):\n",
    "        print(f\"❌ Image folder '{image_folder}' not found!\")\n",
    "    else:\n",
    "        print(f\"\\n✅ Found images folder: {image_folder}\")\n",
    "        image_files = [f for f in os.listdir(image_folder) if f.lower().endswith((\".jpg\", \".png\", \".jpeg\"))]\n",
    "\n",
    "        if not image_files:\n",
    "            print(\"⚠ No images found in the folder!\")\n",
    "\n",
    "        for image_name in image_files:\n",
    "            image_path = os.path.join(image_folder, image_name)\n",
    "            try:\n",
    "                image = Image.open(image_path).convert(\"RGB\")\n",
    "                inputs = processor(image, return_tensors=\"pt\")\n",
    "                output = model.generate(**inputs)\n",
    "                caption_en = processor.decode(output[0], skip_special_tokens=True)\n",
    "\n",
    "                translated_captions = translate_caption(caption_en, selected_languages)\n",
    "\n",
    "                # ✅ Properly format output\n",
    "                caption_entry = f\"🖼 {image_name}:\\n\" + \"\\n\".join(\n",
    "                    [f\"🌍 {lang_name}: {translated_text}\" for lang_name, translated_text in translated_captions.items()]\n",
    "                ) + \"\\n\"\n",
    "\n",
    "                captions_list.append(caption_entry)\n",
    "                print(caption_entry)\n",
    "\n",
    "            except Exception as e:\n",
    "                print(f\"❌ Error processing {image_name}: {e}\")\n",
    "\n",
    "# ** Process Videos **  \n",
    "if process_choice in [\"2\", \"3\"]:\n",
    "    if not os.path.exists(video_folder):\n",
    "        print(f\"❌ Video folder '{video_folder}' not found!\")\n",
    "    else:\n",
    "        print(f\"\\n✅ Found videos folder: {video_folder}\")\n",
    "        video_files = [f for f in os.listdir(video_folder) if f.lower().endswith((\".mp4\", \".avi\", \".mov\"))]\n",
    "\n",
    "        if not video_files:\n",
    "            print(\"⚠ No videos found in the folder!\")\n",
    "\n",
    "        for video_name in video_files:\n",
    "            video_path = os.path.join(video_folder, video_name)\n",
    "            \n",
    "            cap = cv2.VideoCapture(video_path)\n",
    "            total_frames = int(cap.get(cv2.CAP_PROP_FRAME_COUNT))\n",
    "\n",
    "            if total_frames == 0:\n",
    "                print(f\"❌ Cannot read video: {video_name}\")\n",
    "                continue\n",
    "\n",
    "            middle_frame = total_frames // 2  # Extract middle frame\n",
    "            cap.set(cv2.CAP_PROP_POS_FRAMES, middle_frame)\n",
    "\n",
    "            ret, frame = cap.read()\n",
    "            cap.release()\n",
    "\n",
    "            if not ret:\n",
    "                print(f\"❌ Failed to extract frame from {video_name}\")\n",
    "                continue\n",
    "\n",
    "            # Convert frame to PIL Image\n",
    "            image = Image.fromarray(cv2.cvtColor(frame, cv2.COLOR_BGR2RGB))\n",
    "            inputs = processor(image, return_tensors=\"pt\")\n",
    "            output = model.generate(**inputs)\n",
    "            caption_en = processor.decode(output[0], skip_special_tokens=True)\n",
    "\n",
    "            translated_captions = translate_caption(caption_en, selected_languages)\n",
    "\n",
    "            # ✅ FIX OUTPUT FORMAT\n",
    "            caption_entry = f\"🎥 {video_name}:\\n\" + \"\\n\".join(\n",
    "                [f\"🌍 {lang_name}: {translated_text}\" for lang_name, translated_text in translated_captions.items()]\n",
    "            ) + \"\\n\"\n",
    "\n",
    "            captions_list.append(caption_entry)\n",
    "            print(caption_entry)\n",
    "\n",
    "# ** Save Captions to File **\n",
    "with open(output_file, \"w\", encoding=\"utf-8\") as f:\n",
    "    for line in captions_list:\n",
    "        f.write(line + \"\\n\")\n",
    "\n",
    "print(f\"\\n✅ Captions saved in **{output_file}**\")\n"
   ]
  },
  {
   "cell_type": "code",
   "execution_count": null,
   "id": "486b1d74-5c9b-4a87-88c6-f69630d526a0",
   "metadata": {},
   "outputs": [],
   "source": []
  }
 ],
 "metadata": {
  "kernelspec": {
   "display_name": "Python 3 (ipykernel)",
   "language": "python",
   "name": "python3"
  },
  "language_info": {
   "codemirror_mode": {
    "name": "ipython",
    "version": 3
   },
   "file_extension": ".py",
   "mimetype": "text/x-python",
   "name": "python",
   "nbconvert_exporter": "python",
   "pygments_lexer": "ipython3",
   "version": "3.11.7"
  }
 },
 "nbformat": 4,
 "nbformat_minor": 5
}
